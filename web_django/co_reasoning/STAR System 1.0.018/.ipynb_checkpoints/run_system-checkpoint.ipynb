{
 "cells": [
  {
   "cell_type": "code",
   "execution_count": 1,
   "metadata": {},
   "outputs": [],
   "source": [
    "import subprocess, re, json\n",
    "import networkx as nx\n",
    "import matplotlib.pyplot as plt\n",
    "%matplotlib inline"
   ]
  },
  {
   "cell_type": "code",
   "execution_count": 2,
   "metadata": {},
   "outputs": [],
   "source": [
    "story_list = ['doorbell', 'Example_Story', 'Forgetfulness_Case', \n",
    "              'House_Adventure', 'lightson', 'Nighttime_Snack', 'Unpleasant_Surprise']\n",
    "saved_lines = []\n",
    "path = ''\n",
    "with open ('config.pl', 'r') as f:\n",
    "    for line in f:\n",
    "        if line.startswith('domain'):\n",
    "            line = re.sub('domains/(.*)\\.pl', 'domains/'+story_list[0]+'.pl', line)\n",
    "            path = re.match(r'domain\\(\\'(.*)\\'\\)', line).group(1)\n",
    "        saved_lines.append(line.rstrip('\\n'))\n",
    "f.close()\n",
    "\n",
    "story_text = []\n",
    "narrative_list = []\n",
    "with open(path, 'r') as f:\n",
    "    for line in f:\n",
    "        story_text.append(line.rstrip('\\n'))\n",
    "        if line.startswith('s('):\n",
    "            narrative = re.search(r's\\(\\d\\) :: (.*) at', line).group(1)\n",
    "            narrative_list.append(narrative)\n",
    "f.close()\n",
    "\n",
    "with open('config.pl', 'w') as f:\n",
    "    for line in saved_lines:\n",
    "        f.write(line + '\\n')\n",
    "f.close()"
   ]
  },
  {
   "cell_type": "code",
   "execution_count": 9,
   "metadata": {},
   "outputs": [],
   "source": [
    "with open ('/Users/yubinge/Documents/Human-AI/web/co_reasoning/static/tree_data/' + 's(0).json'\n",
    "              , 'w') as f:\n",
    "    json.dump(narrative_list, f)\n",
    "f.close()"
   ]
  },
  {
   "cell_type": "code",
   "execution_count": 9,
   "metadata": {},
   "outputs": [],
   "source": [
    "cmd = 'swipl -s engine.pl -g start -t halt'\n",
    "cmd = cmd.split(' ')\n",
    "result = subprocess.run(cmd, stdout=subprocess.PIPE)"
   ]
  },
  {
   "cell_type": "code",
   "execution_count": 10,
   "metadata": {},
   "outputs": [],
   "source": [
    "text = []\n",
    "qa = {}\n",
    "lines = result.stdout.decode(\"utf-8\").split('\\n')\n",
    "for i in range(len(lines)):\n",
    "    if 'Answering question' in lines[i]:\n",
    "        question = lines[i].split('Answering question ')[1].rstrip(':')\n",
    "        match_answer = re.match(r'([-\\?\\+]) \\w+ choice: ,\\[(.*)at (.*)\\]', lines[i + 1])\n",
    "        if question not in qa:\n",
    "            qa[question] = {'answer': match_answer.group(1), 'conclusion': match_answer.group(2), 'timestep': match_answer.group(3)}\n",
    "        else:\n",
    "            qa[question]['answer'] = match_answer.group(1)\n",
    "    elif 'Acceptable argument' in lines[i] and lines[i + 1] != '':\n",
    "        for j in range(i + 1, len(lines)):\n",
    "            if ('-f->' in lines[j]) and 'per(p(' not in lines[j] and 'per(c(' not in lines[j] and 'per(o(' not in lines[j]:\n",
    "                text.append(lines[j])\n",
    "            if 'Comprehension model' in lines[j + 1]:\n",
    "                break"
   ]
  },
  {
   "cell_type": "code",
   "execution_count": 11,
   "metadata": {},
   "outputs": [],
   "source": [
    "for question in qa:\n",
    "    if qa[question]['answer'] == '+':\n",
    "        qa[question]['conclusion'] += '=true'\n",
    "    elif qa[question]['answer'] == '-':\n",
    "        qa[question]['conclusion'] += '#true'"
   ]
  },
  {
   "cell_type": "code",
   "execution_count": 32,
   "metadata": {},
   "outputs": [],
   "source": [
    "acceptable_arguments = {}\n",
    "for j in range(len(text)):\n",
    "    match_result = re.match(r'(.*) : (.*) @ (\\d*) -(.)-> \\((.*)\\)', text[j])\n",
    "    argument_id = match_result.group(1)\n",
    "    argument = match_result.group(2)\n",
    "    \n",
    "    if argument.startswith('cau'):\n",
    "        argument = re.match(r'cau\\((.*),\\[(.*)\\]\\)',argument)\n",
    "    elif argument.startswith('pro'):\n",
    "        argument = re.match(r'pro\\((.*),\\[(.*)\\]\\)',argument)\n",
    "#     else:\n",
    "#         print('Wrong start with the argument' + argument)\n",
    "    argument = argument.group(2) + ','\n",
    "    argument_list = [s + 'true' for s in argument.split('true,')]\n",
    "    \n",
    "    timestep = match_result.group(3)\n",
    "    conclusion = match_result.group(5)\n",
    "    conclusion = re.match(r'(.*),(\\d*),(.*)', conclusion).group(1)\n",
    "    if argument_id not in acceptable_arguments:\n",
    "        acceptable_arguments[argument_id] = {}\n",
    "        acceptable_arguments[argument_id]['argument'] = argument_list[:len(argument_list)-1]\n",
    "        acceptable_arguments[argument_id]['timestep'] = timestep\n",
    "        acceptable_arguments[argument_id]['conclusion'] = conclusion\n",
    "    elif timestep < acceptable_arguments[argument_id]['timestep']:\n",
    "        acceptable_arguments[argument_id]['timestep'] = timestep"
   ]
  },
  {
   "cell_type": "code",
   "execution_count": 44,
   "metadata": {},
   "outputs": [],
   "source": [
    "with open ('acceptable_arguments.json', 'w') as f:\n",
    "    json.dump(acceptable_arguments, f, indent=4)\n",
    "f.close()"
   ]
  },
  {
   "cell_type": "code",
   "execution_count": 45,
   "metadata": {},
   "outputs": [],
   "source": [
    "with open ('qa.json', 'w') as f:\n",
    "    json.dump(qa, f, indent=4)\n",
    "f.close()"
   ]
  },
  {
   "cell_type": "code",
   "execution_count": 3,
   "metadata": {},
   "outputs": [],
   "source": [
    "with open('acceptable_arguments.json', 'r') as f:\n",
    "    acceptable_arguments = json.load(f)\n",
    "f.close()\n",
    "\n",
    "with open('qa.json', 'r') as f:\n",
    "    qa = json.load(f)\n",
    "f.close()"
   ]
  },
  {
   "cell_type": "code",
   "execution_count": 7,
   "metadata": {},
   "outputs": [],
   "source": [
    "def find_path(start_conclusion_list, time):\n",
    "    for index in range(len(start_conclusion_list)):\n",
    "        start_conclusion = start_conclusion_list[index]\n",
    "        for ar in acceptable_arguments:\n",
    "            if start_conclusion == acceptable_arguments[ar]['conclusion']:\n",
    "                con = acceptable_arguments[ar]\n",
    "#                 if time < con['timestep']:\n",
    "#                     print(con)\n",
    "#                     for i in range(index):\n",
    "#                         node1 = start_conclusion_list[i]\n",
    "#                         for node2 in DG.predecessors(node1):\n",
    "#                             DG.remode_node(node2)\n",
    "#                     return True\n",
    "\n",
    "                if DG.has_node(con['conclusion']) == False:\n",
    "                    DG.add_node(con['conclusion'])\n",
    "\n",
    "                premise_list = []\n",
    "                print(con)\n",
    "                for i in range(len(con['argument'])):\n",
    "                    premise = con['argument'][i]\n",
    "                    DG.add_node(premise)\n",
    "                    DG.add_edge(con['conclusion'], premise, name=ar)\n",
    "                    premise_list.append(premise)\n",
    "                time_error = find_path(premise_list, time)\n",
    "                if time_error == True:\n",
    "                    for premise in premise_list:\n",
    "                        DG.remove_node(premise)\n",
    "                    return True\n",
    "\n",
    "    return False"
   ]
  },
  {
   "cell_type": "code",
   "execution_count": 46,
   "metadata": {},
   "outputs": [
    {
     "name": "stdout",
     "output_type": "stream",
     "text": [
      "Answering q1\n"
     ]
    }
   ],
   "source": [
    "for i in range(0,len(qa)):\n",
    "    DG = nx.DiGraph()\n",
    "    start_con = qa['q(' + str(i+1) + ')']['conclusion']\n",
    "    time = qa['q(' + str(i+1) + ')']['timestep']\n",
    "    print('Answering q' + str(i+1))\n",
    "    find_path([start_con], time)\n",
    "#     for n, nbrs in DG.adj.items():\n",
    "#         print(n, nbrs)\n",
    "#     nx.draw(DG, with_labels=True, font_weight='bold')\n",
    "    network_data = nx.readwrite.json_graph.tree_data(DG, root=start_con)\n",
    "#     print(network_data)\n",
    "    dfs(network_data)\n",
    "#     with open ('/Users/yubinge/Documents/Human-AI/web/co_reasoning/static/tree_data/' + 'q(' + str(i+1) + ').json'\n",
    "#               , 'w') as f:\n",
    "#         json.dump(network_data, f, indent=4)\n",
    "#     f.close()\n",
    "#     print(network_data)\n",
    "    break"
   ]
  },
  {
   "cell_type": "code",
   "execution_count": 44,
   "metadata": {},
   "outputs": [],
   "source": [
    "def dfs(tree):\n",
    "    for neighbor in DG[(tree['id'])]:\n",
    "        tree['name'] = DG[(tree['id'])][neighbor]['name']\n",
    "        break\n",
    "    for children in tree['children']:\n",
    "        if 'children' in children:\n",
    "            dfs(children)"
   ]
  },
  {
   "cell_type": "markdown",
   "metadata": {},
   "source": [
    "## Add/Modification/Delete"
   ]
  },
  {
   "cell_type": "code",
   "execution_count": 32,
   "metadata": {},
   "outputs": [],
   "source": [
    "# Add a node named 'ABC' for p(4)\n",
    "change_rule = 'p(35)'\n",
    "acceptable_arguments[change_rule]['argument'].append('ABC#true')\n",
    "# Write to file"
   ]
  },
  {
   "cell_type": "code",
   "execution_count": 33,
   "metadata": {},
   "outputs": [
    {
     "name": "stdout",
     "output_type": "stream",
     "text": [
      "{'argument': ['flatmate(mary,ann)=true', 'in_flat(mary)=true', 'ABC#true'], 'timestep': '0', 'conclusion': 'is_a(ann,resident)=true'}\n",
      "p(35) :: flatmate(mary,ann),in_flat(mary),-ABC implies is_a(ann,resident).\n"
     ]
    }
   ],
   "source": [
    "for line in story_text:\n",
    "    if line.startswith(change_rule + ' ::'):\n",
    "#         replaced_text = ':: '\n",
    "        replaced_text = r'\\1'\n",
    "        rule = acceptable_arguments[change_rule]\n",
    "        print(rule)\n",
    "        length = len(rule['argument'])\n",
    "        for i in range(length):\n",
    "            argument = rule['argument'][i]\n",
    "            if argument.endswith('=true'):\n",
    "                replaced_text += argument.replace('=true',r'')\n",
    "            elif argument.endswith('#true'):\n",
    "                replaced_text += r'-' + argument.replace('#true',r'')\n",
    "            if i < length - 1:\n",
    "                replaced_text += r','\n",
    "        replaced_text += r'\\2 '\n",
    "        if rule['conclusion'].endswith('=true'):\n",
    "            replaced_text += rule['conclusion'].replace('=true',r'.')\n",
    "        elif rule['conclusion'].endswith('#true'):\n",
    "            replaced_text += r'-' + rule['conclusion'].replace('#true',r'.')\n",
    "        line = re.sub('(:: ).*( implies| causes).*', replaced_text, line)\n",
    "        print(line)\n",
    "    "
   ]
  },
  {
   "cell_type": "markdown",
   "metadata": {},
   "source": [
    "## Add an Edge"
   ]
  },
  {
   "cell_type": "code",
   "execution_count": null,
   "metadata": {},
   "outputs": [],
   "source": []
  }
 ],
 "metadata": {
  "kernelspec": {
   "display_name": "Python 3",
   "language": "python",
   "name": "python3"
  },
  "language_info": {
   "codemirror_mode": {
    "name": "ipython",
    "version": 3
   },
   "file_extension": ".py",
   "mimetype": "text/x-python",
   "name": "python",
   "nbconvert_exporter": "python",
   "pygments_lexer": "ipython3",
   "version": "3.6.8"
  }
 },
 "nbformat": 4,
 "nbformat_minor": 2
}
